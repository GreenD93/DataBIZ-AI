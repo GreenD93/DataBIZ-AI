{
 "cells": [
  {
   "cell_type": "markdown",
   "metadata": {
    "colab_type": "text",
    "id": "view-in-github"
   },
   "source": [
    "<a href=\"https://colab.research.google.com/github/GreenD93/Databiz_AI/blob/main/img/generate_dataset.ipynb\" target=\"_parent\"><img src=\"https://colab.research.google.com/assets/colab-badge.svg\" alt=\"Open In Colab\"/></a>"
   ]
  },
  {
   "cell_type": "code",
   "execution_count": null,
   "metadata": {
    "colab": {
     "base_uri": "https://localhost:8080/"
    },
    "id": "0h67WX2XgqNz",
    "outputId": "1fbb9b66-9001-4a32-e268-78abc719caca"
   },
   "outputs": [],
   "source": [
    "# google drive\n",
    "from google.colab import drive\n",
    "print(\"📂 Connecting to Google Drive...\")\n",
    "drive.mount('/content/drive')"
   ]
  },
  {
   "cell_type": "code",
   "execution_count": null,
   "metadata": {
    "colab": {
     "base_uri": "https://localhost:8080/"
    },
    "id": "NljuCoaajOTY",
    "outputId": "6d265ca9-9325-4f66-e26b-4fc37cc2487e"
   },
   "outputs": [],
   "source": [
    "!pip install timm==0.6.12 fairscale==0.4.13 transformers==4.26.0 requests==2.28.2 accelerate==0.15.0 diffusers[torch]==0.10.2 einops==0.6.0 safetensors==0.2.6 jax==0.4.23 jaxlib==0.4.23"
   ]
  },
  {
   "cell_type": "markdown",
   "metadata": {
    "id": "Tlh0pLqmgx4f"
   },
   "source": [
    "# Download kohya-ss repo\n",
    "\n",
    "\n"
   ]
  },
  {
   "cell_type": "code",
   "execution_count": null,
   "metadata": {
    "id": "CEpiSjjKkizU"
   },
   "outputs": [],
   "source": [
    "# Dataset 경로\n",
    "# - Loras/kbank_icon/dataset"
   ]
  },
  {
   "cell_type": "code",
   "execution_count": null,
   "metadata": {
    "colab": {
     "base_uri": "https://localhost:8080/"
    },
    "id": "bdAM81BMY-kE",
    "outputId": "8995947b-b36d-4a4a-f014-0db05b4ff482"
   },
   "outputs": [],
   "source": [
    "import os\n",
    "\n",
    "root_dir = \"/content\"\n",
    "kohya = \"/content/kohya-trainer\"\n",
    "\n",
    "if not os.path.exists(kohya):\n",
    "  !git clone https://github.com/kohya-ss/sd-scripts {kohya}\n",
    "  os.chdir(kohya)\n",
    "  !git reset --hard 9a67e0df390033a89f17e70df5131393692c2a55\n",
    "  os.chdir(root_dir)"
   ]
  },
  {
   "cell_type": "markdown",
   "metadata": {
    "id": "CTP-VbHCd_6k"
   },
   "source": [
    "# Image captioning"
   ]
  },
  {
   "cell_type": "code",
   "execution_count": null,
   "metadata": {
    "colab": {
     "base_uri": "https://localhost:8080/"
    },
    "id": "ZAp4DD9sY-ne",
    "outputId": "cc60e1ca-23ac-4f75-ac9b-b205c0c82409"
   },
   "outputs": [],
   "source": [
    "# download & loading BLIP models caption: https://storage.googleapis.com/sfr-vision-language-research/BLIP/models/model_large_caption.pth\n",
    "# BLIP 모델을 사용해서 Image Captioning\n",
    "\n",
    "images_folder = \"/content/drive/MyDrive/Loras/test/dataset\"\n",
    "caption_min = 10\n",
    "caption_max = 75\n",
    "\n",
    "os.chdir(kohya)\n",
    "%env PYTHONPATH={kohya}\n",
    "!python {kohya}/finetune/make_captions.py \\\n",
    "    {images_folder} \\\n",
    "    --beam_search \\\n",
    "    --max_data_loader_n_workers=2 \\\n",
    "    --batch_size=8 \\\n",
    "    --min_length={caption_min} \\\n",
    "    --max_length={caption_max} \\\n",
    "    --caption_extension=.txt"
   ]
  }
 ],
 "metadata": {
  "accelerator": "GPU",
  "colab": {
   "authorship_tag": "ABX9TyMJd4/w/zHPfd4ZP6kixzmA",
   "gpuType": "T4",
   "include_colab_link": true,
   "mount_file_id": "1EfTrOcSe2HJbZkDIJh7TybiM4i8sTfQE",
   "provenance": []
  },
  "kernelspec": {
   "display_name": "Python 3 (ipykernel)",
   "language": "python",
   "name": "python3"
  },
  "language_info": {
   "codemirror_mode": {
    "name": "ipython",
    "version": 3
   },
   "file_extension": ".py",
   "mimetype": "text/x-python",
   "name": "python",
   "nbconvert_exporter": "python",
   "pygments_lexer": "ipython3",
   "version": "3.11.5"
  }
 },
 "nbformat": 4,
 "nbformat_minor": 4
}
