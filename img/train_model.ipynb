{
 "cells": [
  {
   "cell_type": "markdown",
   "metadata": {
    "colab_type": "text",
    "id": "view-in-github"
   },
   "source": [
    "<a href=\"https://colab.research.google.com/github/GreenD93/Databiz_AI/blob/main/img/train_model.ipynb\" target=\"_parent\"><img src=\"https://colab.research.google.com/assets/colab-badge.svg\" alt=\"Open In Colab\"/></a>"
   ]
  },
  {
   "cell_type": "code",
   "execution_count": null,
   "metadata": {
    "colab": {
     "base_uri": "https://localhost:8080/"
    },
    "id": "5nk0biTblwOf",
    "outputId": "9215f5ee-ec17-4def-e935-e0b96c9096be"
   },
   "outputs": [],
   "source": [
    "from google.colab import drive\n",
    "print(\"📂 Connecting to Google Drive...\")\n",
    "drive.mount('/content/drive')"
   ]
  },
  {
   "cell_type": "code",
   "execution_count": null,
   "metadata": {
    "id": "Rau23xOLnLHH"
   },
   "outputs": [],
   "source": [
    "# game icon url\n",
    "# base model : https://huggingface.co/runwayml/stable-diffusion-v1-5\n",
    "# https://civitai.com/models/284567/game-icon-institute3d\n",
    "# https://civitai.com/api/download/models/320184\n",
    "# download original modelsGame Icon Institute3d\n",
    "# base models\n",
    "# !wget /content https://civitai.com/api/download/models/320184 --content-disposition"
   ]
  },
  {
   "cell_type": "code",
   "execution_count": null,
   "metadata": {
    "id": "eW6HMh61I6uU"
   },
   "outputs": [],
   "source": [
    "import os\n",
    "import toml\n",
    "from time import time\n",
    "\n",
    "# model config\n",
    "## more details : https://colab.research.google.com/github/hollowstrawberry/kohya-colab/blob/main/Lora_Trainer.ipynb\n",
    "COLAB = True # low ram\n",
    "\n",
    "root_dir = \"/content\" if COLAB else \"~/Loras\"\n",
    "repo_dir = os.path.join(root_dir, \"kohya-trainer\")\n",
    "\n",
    "main_dir      = os.path.join(root_dir, \"drive/MyDrive/Loras\") if COLAB else root_dir\n",
    "log_folder    = os.path.join(main_dir, \"_logs\")\n",
    "project_name  = \"kbank_icon\" # <-- 폴더 이름 변경\n",
    "\n",
    "tag = \"detailed\"\n",
    "\n",
    "config_folder = os.path.join(main_dir, project_name)\n",
    "images_folder = os.path.join(main_dir, project_name, f\"{tag}_dataset\")\n",
    "output_folder = os.path.join(main_dir, project_name, f\"{tag}_output\")\n",
    "\n",
    "# base model\n",
    "model_file = os.path.join(config_folder, \"v1-5-pruned.safetensors\")\n",
    "\n",
    "# paths\n",
    "config_file = os.path.join(config_folder, \"training_config.toml\")\n",
    "dataset_config_file = os.path.join(config_folder, \"dataset_config.toml\")\n",
    "accelerate_config_file = os.path.join(repo_dir, \"accelerate_config/config.yaml\")\n"
   ]
  },
  {
   "cell_type": "code",
   "execution_count": null,
   "metadata": {
    "colab": {
     "base_uri": "https://localhost:8080/"
    },
    "id": "13scWwecodnH",
    "outputId": "2295cc23-6b51-4c99-8b26-38f0419fe421"
   },
   "outputs": [],
   "source": [
    "COLAB = True # low ram\n",
    "XFORMERS = True\n",
    "SOURCE = \"https://github.com/kohya-ss/sd-scripts\"\n",
    "COMMIT = \"9a67e0df390033a89f17e70df5131393692c2a55\"\n",
    "BETTER_EPOCH_NAMES = True\n",
    "LOAD_TRUNCATED_IMAGES = True\n",
    "\n",
    "def install_dependencies():\n",
    "  os.chdir(root_dir)\n",
    "  !git clone {SOURCE} {repo_dir}\n",
    "  os.chdir(repo_dir)\n",
    "  if COMMIT:\n",
    "    !git reset --hard {COMMIT}\n",
    "  !wget https://raw.githubusercontent.com/hollowstrawberry/kohya-colab/main/train_network_wrapper.py -q -O train_network_wrapper.py\n",
    "  !wget https://raw.githubusercontent.com/hollowstrawberry/kohya-colab/main/dracula.py -q -O dracula.py\n",
    "\n",
    "  !apt -y update -qq\n",
    "  !apt -y install aria2 -qq\n",
    "  !pip install accelerate==0.15.0 diffusers==0.10.2 transformers==4.26.0 bitsandbytes==0.41.3.post2 opencv-python==4.8.0.76 tensorflow torchvision==0.16.0 torchtext==0.16.0 torchaudio==2.1.0 jax==0.4.23 jaxlib==0.4.23\n",
    "  !pip install toml==0.10.2 ftfy==6.1.1 einops==0.6.0 timm==0.6.12 fairscale==0.4.13 albumentations==1.3.1 voluptuous==0.13.1 requests==2.31.0 pytorch-lightning==1.9.0\n",
    "  !pip install safetensors lion_pytorch==0.0.6 dadaptation==3.1 prodigyopt==1.0 pygments\n",
    "  !pip install .\n",
    "  if XFORMERS:\n",
    "    !pip install xformers==0.0.22.post7\n",
    "\n",
    "  # patch kohya for minor stuff\n",
    "  if COLAB:\n",
    "    !sed -i \"s@cpu@cuda@\" library/model_util.py # low ram\n",
    "  if LOAD_TRUNCATED_IMAGES:\n",
    "    !sed -i 's/from PIL import Image/from PIL import Image, ImageFile\\nImageFile.LOAD_TRUNCATED_IMAGES=True/g' library/train_util.py # fix truncated jpegs error\n",
    "  if BETTER_EPOCH_NAMES:\n",
    "    !sed -i 's/{:06d}/{:02d}/g' library/train_util.py # make epoch names shorter\n",
    "    !sed -i 's/\".\" + args.save_model_as)/\"-{:02d}.\".format(num_train_epochs) + args.save_model_as)/g' train_network.py # name of the last epoch will match the rest\n",
    "\n",
    "  from accelerate.utils import write_basic_config\n",
    "  if not os.path.exists(accelerate_config_file):\n",
    "    write_basic_config(save_location=accelerate_config_file)\n",
    "\n",
    "  os.environ[\"TF_CPP_MIN_LOG_LEVEL\"] = \"3\"\n",
    "  os.environ[\"BITSANDBYTES_NOWELCOME\"] = \"1\"\n",
    "  os.environ[\"SAFETENSORS_FAST_GPU\"] = \"1\"\n",
    "\n",
    "install_dependencies()"
   ]
  },
  {
   "cell_type": "code",
   "execution_count": null,
   "metadata": {
    "id": "8ptrhZDmggs9"
   },
   "outputs": [],
   "source": [
    "# https://civitai.com/articles/4/make-your-own-loras-easy-and-free\n",
    "\n",
    "config_dict = {\n",
    "  'additional_network_arguments': {\n",
    "    'unet_lr': 0.0005,\n",
    "    'text_encoder_lr': 0.0001,\n",
    "    'network_dim': 16,\n",
    "    'network_alpha': 8,\n",
    "    'network_module': 'networks.lora'\n",
    "  },\n",
    "  'optimizer_arguments': {\n",
    "    'learning_rate': 0.0005,\n",
    "    'lr_scheduler': 'cosine_with_restarts',\n",
    "    'lr_scheduler_num_cycles': 3,\n",
    "    'lr_warmup_steps': 272,\n",
    "    'optimizer_type': 'AdamW8bit'\n",
    "  },\n",
    "  'training_arguments': {\n",
    "    'max_train_epochs': 50,\n",
    "    'save_every_n_epochs': 1,\n",
    "    'save_last_n_epochs': 50,\n",
    "    'train_batch_size': 2,\n",
    "    'clip_skip': 2,\n",
    "    'min_snr_gamma': 5.0,\n",
    "    'weighted_captions': False,\n",
    "    'seed': 42,\n",
    "    'max_token_length': 225,\n",
    "    'xformers': True,\n",
    "    'lowram': True,\n",
    "    'max_data_loader_n_workers': 8,\n",
    "    'persistent_data_loader_workers': True,\n",
    "    'save_precision': 'fp16',\n",
    "    'mixed_precision': 'fp16',\n",
    "    'output_dir': output_folder,\n",
    "    'logging_dir': log_folder,\n",
    "    'output_name': project_name,\n",
    "    'log_prefix': project_name\n",
    "  },\n",
    "  'model_arguments': {\n",
    "    'pretrained_model_name_or_path': model_file,\n",
    "    'v2': False,\n",
    "    \"v_parameterization\": None\n",
    "  },\n",
    "  'saving_arguments': {\n",
    "    'save_model_as': 'safetensors'\n",
    "  },\n",
    "  'dreambooth_arguments': {\n",
    "    'prior_loss_weight': 1.0\n",
    "  },\n",
    "  'dataset_arguments': {\n",
    "    'cache_latents': True\n",
    "  }\n",
    "}\n",
    "\n",
    "# 10 images × 10 repeats × 20 epochs ÷ 2 batch size = 1000 steps\n",
    "# 20 images × 10 repeats × 10 epochs ÷ 2 batch size = 1000 steps\n",
    "# 100 images × 3 repeats × 10 epochs ÷ 2 batch size = 1500 steps\n",
    "# 400 images × 1 repeat × 10 epochs ÷ 2 batch size = 2000 steps\n",
    "# 1000 images × 1 repeat × 10 epochs ÷ 3 batch size = 3300 steps\n",
    "\n",
    "dataset_config_dict = {\n",
    "  'general': {\n",
    "    'resolution': 512,\n",
    "    'shuffle_caption': True,\n",
    "    'keep_tokens': 1,\n",
    "    'flip_aug': False,\n",
    "    'caption_extension': '.txt',\n",
    "    'enable_bucket': True,\n",
    "    'bucket_reso_steps': 64,\n",
    "    'bucket_no_upscale': False,\n",
    "    'min_bucket_reso': 256,\n",
    "    'max_bucket_reso': 1024\n",
    "  },\n",
    "  'datasets': [\n",
    "    {\n",
    "      'subsets': [\n",
    "        {\n",
    "          'num_repeats': 3,\n",
    "          'image_dir': images_folder,\n",
    "          'class_tokens': None\n",
    "        }\n",
    "      ]\n",
    "    }\n",
    "  ]\n",
    "}\n",
    "\n",
    "# write config dict\n",
    "with open(config_file, \"w\") as f:\n",
    "    f.write(toml.dumps(config_dict))\n",
    "\n",
    "# write dataset_config dict\n",
    "with open(dataset_config_file, \"w\") as f:\n",
    "    f.write(toml.dumps(dataset_config_dict))"
   ]
  },
  {
   "cell_type": "code",
   "execution_count": null,
   "metadata": {
    "colab": {
     "base_uri": "https://localhost:8080/"
    },
    "id": "w4xtAWQRmjyg",
    "outputId": "617152c0-3633-4df9-a062-8788d826af4b"
   },
   "outputs": [],
   "source": [
    "!accelerate launch --config_file={accelerate_config_file} --num_cpu_threads_per_process=1 train_network_wrapper.py --dataset_config={dataset_config_file} --config_file={config_file}"
   ]
  }
 ],
 "metadata": {
  "accelerator": "GPU",
  "colab": {
   "authorship_tag": "ABX9TyOVjx2TfcZW6sfG51m8oF4s",
   "gpuType": "T4",
   "include_colab_link": true,
   "provenance": []
  },
  "kernelspec": {
   "display_name": "Python 3 (ipykernel)",
   "language": "python",
   "name": "python3"
  },
  "language_info": {
   "codemirror_mode": {
    "name": "ipython",
    "version": 3
   },
   "file_extension": ".py",
   "mimetype": "text/x-python",
   "name": "python",
   "nbconvert_exporter": "python",
   "pygments_lexer": "ipython3",
   "version": "3.11.5"
  }
 },
 "nbformat": 4,
 "nbformat_minor": 4
}
